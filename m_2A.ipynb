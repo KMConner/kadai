{
  "nbformat": 4,
  "nbformat_minor": 0,
  "metadata": {
    "colab": {
      "name": "m-2A.ipynb",
      "provenance": [],
      "collapsed_sections": []
    },
    "kernelspec": {
      "name": "python3",
      "display_name": "Python 3"
    }
  },
  "cells": [
    {
      "cell_type": "code",
      "metadata": {
        "id": "v9v_nPKQMTZd",
        "colab_type": "code",
        "colab": {}
      },
      "source": [
        "from sklearn.feature_extraction.text import TfidfVectorizer\n",
        "from sklearn.cluster import KMeans\n",
        "import numpy as np\n",
        "import matplotlib.pyplot as plt\n",
        "import pandas as pd\n",
        "import nltk\n",
        "import collections"
      ],
      "execution_count": 1,
      "outputs": []
    },
    {
      "cell_type": "code",
      "metadata": {
        "id": "MaRmXeotMjKv",
        "colab_type": "code",
        "colab": {
          "base_uri": "https://localhost:8080/",
          "height": 208
        },
        "outputId": "31033c1f-6844-4b9c-f84e-bda26046a062"
      },
      "source": [
        "nltk.download(\"stopwords\")\n",
        "nltk.download(\"wordnet\")\n",
        "nltk.download(\"reuters\")\n",
        "nltk.download(\"brown\")\n",
        "nltk.download(\"punkt\")"
      ],
      "execution_count": 2,
      "outputs": [
        {
          "output_type": "stream",
          "text": [
            "[nltk_data] Downloading package stopwords to /root/nltk_data...\n",
            "[nltk_data]   Package stopwords is already up-to-date!\n",
            "[nltk_data] Downloading package wordnet to /root/nltk_data...\n",
            "[nltk_data]   Package wordnet is already up-to-date!\n",
            "[nltk_data] Downloading package reuters to /root/nltk_data...\n",
            "[nltk_data]   Package reuters is already up-to-date!\n",
            "[nltk_data] Downloading package brown to /root/nltk_data...\n",
            "[nltk_data]   Package brown is already up-to-date!\n",
            "[nltk_data] Downloading package punkt to /root/nltk_data...\n",
            "[nltk_data]   Package punkt is already up-to-date!\n"
          ],
          "name": "stdout"
        },
        {
          "output_type": "execute_result",
          "data": {
            "text/plain": [
              "True"
            ]
          },
          "metadata": {
            "tags": []
          },
          "execution_count": 2
        }
      ]
    },
    {
      "cell_type": "markdown",
      "metadata": {
        "id": "7VtrTuH4MrHN",
        "colab_type": "text"
      },
      "source": [
        "### データを取得"
      ]
    },
    {
      "cell_type": "code",
      "metadata": {
        "id": "zXcN4x3bMljo",
        "colab_type": "code",
        "colab": {}
      },
      "source": [
        "from nltk.corpus import brown as corpus"
      ],
      "execution_count": 3,
      "outputs": []
    },
    {
      "cell_type": "markdown",
      "metadata": {
        "id": "A6PFfk-BMxEs",
        "colab_type": "text"
      },
      "source": [
        "### datasetの中身を確認"
      ]
    },
    {
      "cell_type": "code",
      "metadata": {
        "id": "HXvSxPG0MuXr",
        "colab_type": "code",
        "colab": {
          "base_uri": "https://localhost:8080/",
          "height": 225
        },
        "outputId": "cbea4925-f9f7-4039-c585-064a76bd0f20"
      },
      "source": [
        "for n,item in enumerate(corpus.words(corpus.fileids()[0])[:300]):\n",
        "    print(item, end=\" \")\n",
        "    if (n%25) ==24:\n",
        "      print(\" \")"
      ],
      "execution_count": 4,
      "outputs": [
        {
          "output_type": "stream",
          "text": [
            "The Fulton County Grand Jury said Friday an investigation of Atlanta's recent primary election produced `` no evidence '' that any irregularities took place .  \n",
            "The jury further said in term-end presentments that the City Executive Committee , which had over-all charge of the election , `` deserves the praise  \n",
            "and thanks of the City of Atlanta '' for the manner in which the election was conducted . The September-October term jury had been charged  \n",
            "by Fulton Superior Court Judge Durwood Pye to investigate reports of possible `` irregularities '' in the hard-fought primary which was won by Mayor-nominate Ivan  \n",
            "Allen Jr. . `` Only a relative handful of such reports was received '' , the jury said , `` considering the widespread interest in  \n",
            "the election , the number of voters and the size of this city '' . The jury said it did find that many of Georgia's  \n",
            "registration and election laws `` are outmoded or inadequate and often ambiguous '' . It recommended that Fulton legislators act `` to have these laws  \n",
            "studied and revised to the end of modernizing and improving them '' . The grand jury commented on a number of other topics , among  \n",
            "them the Atlanta and Fulton County purchasing departments which it said `` are well operated and follow generally accepted practices which inure to the best  \n",
            "interest of both governments '' . Merger proposed However , the jury said it believes `` these two offices should be combined to achieve greater  \n",
            "efficiency and reduce the cost of administration '' . The City Purchasing Department , the jury said , `` is lacking in experienced clerical personnel  \n",
            "as a result of city personnel policies '' . It urged that the city `` take steps to remedy '' this problem . Implementation of  \n"
          ],
          "name": "stdout"
        }
      ]
    },
    {
      "cell_type": "code",
      "metadata": {
        "id": "uyNbkvs9NAav",
        "colab_type": "code",
        "colab": {
          "base_uri": "https://localhost:8080/",
          "height": 52
        },
        "outputId": "561b9f32-1aa8-44b9-9302-b885d031abe4"
      },
      "source": [
        "docs=[corpus.words(fileid) for fileid in corpus.fileids()]\n",
        "print(docs[:5])\n",
        "print(\"num of docs:\", len(docs))"
      ],
      "execution_count": 5,
      "outputs": [
        {
          "output_type": "stream",
          "text": [
            "[['The', 'Fulton', 'County', 'Grand', 'Jury', 'said', ...], ['Austin', ',', 'Texas', '--', 'Committee', 'approval', ...], ['Several', 'defendants', 'in', 'the', 'Summerdale', ...], ['Oslo', 'The', 'most', 'positive', 'element', 'to', ...], ['East', 'Providence', 'should', 'organize', 'its', ...]]\n",
            "num of docs: 500\n"
          ],
          "name": "stdout"
        }
      ]
    },
    {
      "cell_type": "markdown",
      "metadata": {
        "id": "U17VbjPaNIAD",
        "colab_type": "text"
      },
      "source": [
        "## 前処理編"
      ]
    },
    {
      "cell_type": "markdown",
      "metadata": {
        "id": "HGPSmgSNNMFs",
        "colab_type": "text"
      },
      "source": [
        "### 例 : ストップワードリストの作成\n",
        "\n",
        "### nltkのストップワードリスト"
      ]
    },
    {
      "cell_type": "code",
      "metadata": {
        "id": "CHC1l7zDNFLx",
        "colab_type": "code",
        "colab": {}
      },
      "source": [
        "en_stop = nltk.corpus.stopwords.words('english')"
      ],
      "execution_count": 6,
      "outputs": []
    },
    {
      "cell_type": "markdown",
      "metadata": {
        "id": "HqdBEQpUNT74",
        "colab_type": "text"
      },
      "source": [
        "### 例:【発展】記号や数字は正規表現で消してみる"
      ]
    },
    {
      "cell_type": "code",
      "metadata": {
        "id": "to0DASSYNRj0",
        "colab_type": "code",
        "colab": {}
      },
      "source": [
        "en_stop= [\"``\",\"/\",\",.\",\".,\",\";\",\"--\",\":\",\")\",\"(\",'\"','&',\"'\",'),',',\"','-','.,','.,\"','.-',\"?\",\">\",\"<\", \n",
        "          \"0\",\"1\",\"2\",\"3\",\"4\",\"5\",\"6\",\"7\",\"8\",\"9\",\"10\",\"11\",\"12\",\"86\",\"1986\",\"1987\",\"000\", \n",
        "          \"said\",\"say\",\"u\",\"v\",\"mln\",\"ct\",\"net\",\"dlrs\",\"tonne\",\"pct\",\"shr\",\"nil\",\"company\",\"lt\",\"share\",\"year\",\"billion\",\"price\"] \\\n",
        "         +en_stop"
      ],
      "execution_count": 7,
      "outputs": []
    },
    {
      "cell_type": "markdown",
      "metadata": {
        "id": "7hdG75XqNYPa",
        "colab_type": "text"
      },
      "source": [
        "### 前処理関数の作成"
      ]
    },
    {
      "cell_type": "code",
      "metadata": {
        "id": "f1jUH0P-NcoP",
        "colab_type": "code",
        "colab": {}
      },
      "source": [
        "from nltk.corpus import wordnet as wn #lemmatize関数のためのimport\n",
        "\n",
        "def preprocess_word(word, stopwordset):\n",
        "    \n",
        "    #1.make words lower ex: Python =>python\n",
        "    word=word.lower()\n",
        "    \n",
        "    #2.remove \",\" and \".\"\n",
        "    if word in [\",\",\".\"]:\n",
        "        return None\n",
        "    \n",
        "    #3.remove stopword  ex: the => (None) \n",
        "    if word in stopwordset:\n",
        "        return None\n",
        "    \n",
        "    #4.lemmatize  ex: cooked=>cook\n",
        "    lemma = wn.morphy(word)\n",
        "    if lemma is None:\n",
        "        return word\n",
        "\n",
        "    elif lemma in stopwordset: #lemmatizeしたものがstopwordである可能性がある\n",
        "        return None\n",
        "    else:\n",
        "        return lemma\n",
        "    \n",
        "\n",
        "def preprocess_document(document):\n",
        "    document=[preprocess_word(w, en_stop) for w in document]\n",
        "    document=[w for w in document if w is not None]\n",
        "    return document\n",
        "\n",
        "def preprocess_documents(documents):\n",
        "    return [preprocess_document(document) for document in documents]"
      ],
      "execution_count": 8,
      "outputs": []
    },
    {
      "cell_type": "markdown",
      "metadata": {
        "id": "kIwd7wGvNyWj",
        "colab_type": "text"
      },
      "source": [
        "## クラスタリング編"
      ]
    },
    {
      "cell_type": "markdown",
      "metadata": {
        "id": "WPAMVMFaN2yL",
        "colab_type": "text"
      },
      "source": [
        "### tf idfで上記の前処理済みの文章をベクトル化\n",
        "### vectorizerを使用する（ハイパーパラメーターの設定）"
      ]
    },
    {
      "cell_type": "code",
      "metadata": {
        "id": "QVtbDMmtNuQV",
        "colab_type": "code",
        "colab": {
          "base_uri": "https://localhost:8080/",
          "height": 54
        },
        "outputId": "b6df6085-99f4-451d-ed97-9eab74c3a06b"
      },
      "source": [
        "pre_docs=preprocess_documents(docs)\n",
        "pre_docs=[\" \".join(doc) for doc in pre_docs]\n",
        "print(pre_docs[0])\n",
        "\n",
        "vectorizer = TfidfVectorizer(max_features=200, token_pattern=u'(?u)\\\\b\\\\w+\\\\b' )"
      ],
      "execution_count": 9,
      "outputs": [
        {
          "output_type": "stream",
          "text": [
            "fulton county grand jury friday investigation atlanta's recent primary election produce evidence '' irregularity take place jury term-end presentment city executive committee over-all charge election deserve praise thanks city atlanta '' manner election conduct september-october term jury charge fulton superior court judge durwood pye investigate report possible irregularity '' hard-fought primary mayor-nominate ivan allen jr. relative handful report receive '' jury consider widespread interest election number voter size city '' jury find many georgia's registration election laws outmode inadequate often ambiguous '' recommend fulton legislator act laws study revise end modernize improve '' grand jury comment number topic among atlanta fulton county purchasing department well operate follow generally accept practice inure best interest government '' merger propose however jury belief two office combine achieve greater efficiency reduce cost administration '' city purchasing department jury lack experience clerical personnel result city personnel policy '' urge city take steps remedy '' problem implementation georgia's automobile title law also recommend outgo jury urge next legislature provide enable funds re-set effective date orderly implementation law may effect '' grand jury take swipe state welfare department's handling federal funds grant child welfare services foster home one major item fulton county general assistance program '' jury state welfare department see fit distribute funds welfare department county state exception fulton county receive none money juror realize proportionate distribution funds might disable program le populous county '' nevertheless feel future fulton county receive portion available funds '' juror failure continue place disproportionate burden '' fulton taxpayer jury also comment fulton ordinary's court fire practice appointment appraiser guardian administrator awarding fee compensation ward protect jury found court incorporate operate procedure recommendation '' two previous grand jury atlanta bar association interim citizen committee action serve protect fact effect court's ward undue costs appoint elect servant unmeritorious criticism '' jury regard atlanta's new multi-million-dollar airport jury recommend new management take charge jan. airport operate manner eliminate political influence '' jury elaborate add periodic surveillance pricing practice concessionaire purpose keeping reasonable '' ask jail deputy matter jury recommend four additional deputy employ fulton county jail doctor medical intern extern employ night weekend duty jail '' fulton legislator work city official pass enable legislation permit establishment fair equitable '' pension plan city employ jury praise administration operation atlanta police department fulton tax commissioner's office bellwood alpharetta prison farm grady hospital fulton health department mayor william b. hartsfield file suit divorce wife pearl williams hartsfield fulton superior court friday petition charge mental cruelty couple married aug. 1913 son william berry jr. daughter mrs. j. m. cheshire griffin attorney mayor amicable property settlement agree upon petition list mayor's occupation attorney '' age 71 list wife's age 74 place birth opelika ala. petition couple live together man wife hartsfield home 637 e. pelham rd. aj henry l. bowden list petition mayor's attorney hartsfield mayor atlanta exception one brief interlude since 1937 political career go back election city council 1923 mayor's present term office expire jan. succeed ivan allen jr. become candidate sept. 13 primary mayor hartsfield announce would run reelection georgia republican getting strong encouragement enter candidate 1962 governor's race top official wednesday robert snodgrass state gop chairman meeting hold tuesday night blue ridge bring enthusiastic response audience state party chairman james w. dorsey add enthusiasm picking state rally hold sept. savannah newly elect texas sen. john tower feature speaker blue ridge meeting audience warn entering candidate governor would force take petition voting precinct obtain signature register voter despite warning unanimous vote enter candidate accord republican attend crowd ask whether want wait one term make race vote dissent large hurdle republican would face state law making first race one two alternative course must take five per cent voter county must sign petition request republican allow place names candidate general election ballot republican must hold primary county unit system system party oppose platform sam caldwell state highway department public relations director resign tuesday work lt. gov. garland byrd's campaign caldwell's resignation expect time succeed rob ledford gainesville assistant three years gubernatorial campaign start caldwell expect become campaign coordinator byrd georgia legislature wind 1961 session monday head home highway bond money approve follow shortly adjournment monday afternoon senate expect approve study number legislator allot rural urban area determine adjustment make gov. vandiver expect make traditional visit chambers work toward adjournment vandiver likely mention $100 million highway bond issue approve earlier session first priority item construction bond meanwhile learn state highway department near ready issue first $30 million worth highway reconstruction bond bond issue go state court friendly test suit test validity act sales begin contract let repair work georgia's heavily travel highway highway department source also plan issue $3 million $4 million worth rural roads authority bond rural road construction work revolve fund department apparently intend make rural roads authority revolve fund new bond would issue every time portion old one pay tax authorities vandiver open race governor 1958 battle legislature issuance $50 million worth additional rural roads bond propose gov. marvin griffin highway department source tell constitution however vandiver consult yet plan issue new rural roads bond schley county rep. b. d. pelham offer resolution monday house rescind body's action friday voting $10 per day increase expense allowance pelham sunday night research whether quickie '' vote increase repeal outright whether notice would first given reconsideration action would seek emphasizing technical details fully work pelham resolution would seek set aside privilege resolution house vote 87-31 similar resolution pass senate vote 29-5 sunday night word resolution offer rescind action pelham point georgia voter last november reject constitutional amendment allow legislator vote pay raise future legislature sessions veteran jackson county legislator ask georgia house monday back federal aid education something consistently oppose past rep. mac barber commerce asking house privilege resolution endorse increase federal support public education provide funds receive expend '' state funds barber 13th legislator member congressional delegation washington would like see resolution pass '' add none georgia's congressman specifically ask offer resolution resolution barber toss house hopper friday formally read monday event congress provide increase federal funds '' state board education direct give priority '' teacher pay raise colquitt long hot controversy miller county new school superintendent elect policeman put cool election ever saw county '' new school superintendent harry davis veteran agriculture teacher defeated felix bush school principal chairman miller county democratic executive committee davis receive 1,119 vote saturday's election bush get 402 ordinary carey williams arm pistol stand polls insure order cool calm election ever saw '' colquitt policeman tom williams polls like church smell drop liquor bit trouble '' campaign leading election quiet however mark controversy anonymous midnight phone call veil threat violence former county school superintendent george p. callan shot death march 18 four days resign post dispute county school board election campaign candidate davis bush reportedly receive anonymous telephone call ordinary williams subject anonymous call soon schedule election many local citizen fear would irregularity polls williams get permit carry gun promise orderly election sheriff felix tabb ordinary apparently make good promise everything go real smooth '' sheriff bit trouble ''\n"
          ],
          "name": "stdout"
        }
      ]
    },
    {
      "cell_type": "markdown",
      "metadata": {
        "id": "bOOrgZHZN_Aw",
        "colab_type": "text"
      },
      "source": [
        "### fitする"
      ]
    },
    {
      "cell_type": "code",
      "metadata": {
        "id": "98b3XjG7N8nZ",
        "colab_type": "code",
        "colab": {}
      },
      "source": [
        "tf_idf = vectorizer.fit_transform(pre_docs)"
      ],
      "execution_count": 10,
      "outputs": []
    },
    {
      "cell_type": "markdown",
      "metadata": {
        "id": "yKhgoWLeOCW_",
        "colab_type": "text"
      },
      "source": [
        "### K-means"
      ]
    },
    {
      "cell_type": "code",
      "metadata": {
        "id": "ZXRTX8tQdnOY",
        "colab_type": "code",
        "colab": {}
      },
      "source": [
        "def test_k_means(num_clusters):\n",
        "  km = KMeans(n_clusters=num_clusters, random_state = 0)\n",
        "  clusters = km.fit_predict(tf_idf)\n",
        "  print(f\"{num_clusters}: {km.inertia_}\")\n",
        "  return km.inertia_\n"
      ],
      "execution_count": 11,
      "outputs": []
    },
    {
      "cell_type": "markdown",
      "metadata": {
        "id": "aIcN2sKSOZdu",
        "colab_type": "text"
      },
      "source": [
        "### 出力結果"
      ]
    },
    {
      "cell_type": "code",
      "metadata": {
        "id": "HBFqXETzOXec",
        "colab_type": "code",
        "colab": {
          "base_uri": "https://localhost:8080/",
          "height": 885
        },
        "outputId": "fb3f3ff9-3a18-421e-9028-a53fdb3b57fe"
      },
      "source": [
        "inertia_list = []\n",
        "for i in range(1, 51):\n",
        "  inertia_list.append(test_k_means(i))\n"
      ],
      "execution_count": 12,
      "outputs": [
        {
          "output_type": "stream",
          "text": [
            "1: 346.2016432553016\n",
            "2: 323.22702912857267\n",
            "3: 306.5504042858648\n",
            "4: 297.3940955997451\n",
            "5: 290.7131893316773\n",
            "6: 284.77898627171743\n",
            "7: 279.45158194516534\n",
            "8: 274.77409191450755\n",
            "9: 271.79023406325615\n",
            "10: 267.98886901792144\n",
            "11: 264.8705290425191\n",
            "12: 262.1350235205587\n",
            "13: 259.20089298162475\n",
            "14: 256.3670918753162\n",
            "15: 255.81699202420876\n",
            "16: 251.50284232159515\n",
            "17: 249.43641128073622\n",
            "18: 247.16342996603123\n",
            "19: 244.9559391048862\n",
            "20: 244.0645680871464\n",
            "21: 242.5925061159357\n",
            "22: 241.12264462969296\n",
            "23: 240.06505119252375\n",
            "24: 238.76465364533726\n",
            "25: 237.1085692981077\n",
            "26: 235.22997156783183\n",
            "27: 233.80928253778237\n",
            "28: 233.08845414456965\n",
            "29: 231.57073022569136\n",
            "30: 230.3336627724481\n",
            "31: 229.54331989185795\n",
            "32: 227.6781184859863\n",
            "33: 226.36336042489202\n",
            "34: 224.9130022724461\n",
            "35: 223.26566645720015\n",
            "36: 221.7111855946019\n",
            "37: 220.7371501725546\n",
            "38: 220.2269505383164\n",
            "39: 219.70487936561304\n",
            "40: 219.0124838771659\n",
            "41: 217.8621129844545\n",
            "42: 215.98832779187353\n",
            "43: 214.9249597285665\n",
            "44: 214.2398516429091\n",
            "45: 213.394012098418\n",
            "46: 212.59759486791484\n",
            "47: 211.80384811806317\n",
            "48: 210.2232504947836\n",
            "49: 209.12298776915188\n",
            "50: 208.1814606894332\n"
          ],
          "name": "stdout"
        }
      ]
    },
    {
      "cell_type": "code",
      "metadata": {
        "id": "WeH2jTwcgvu7",
        "colab_type": "code",
        "colab": {
          "base_uri": "https://localhost:8080/",
          "height": 265
        },
        "outputId": "4eab6b2c-1f79-4596-b663-5cc9da65015f"
      },
      "source": [
        "import matplotlib.pyplot as plt\n",
        "\n",
        "plt.plot(range(1,51), inertia_list)\n",
        "plt.show()\n"
      ],
      "execution_count": 13,
      "outputs": [
        {
          "output_type": "display_data",
          "data": {
            "image/png": "[encoded data removed]",
            "text/plain": [
              "<Figure size 432x288 with 1 Axes>"
            ]
          },
          "metadata": {
            "tags": [],
            "needs_background": "light"
          }
        }
      ]
    }
  ]
}